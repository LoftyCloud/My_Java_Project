{
 "cells": [
  {
   "cell_type": "code",
   "execution_count": 1,
   "id": "4f745c92",
   "metadata": {},
   "outputs": [],
   "source": [
    "# 数据读取\n",
    "import numpy as np\n",
    "\n",
    "label = ['a','e','g','i','l','n','o','r','t','u'] # 序号对应的标签\n",
    "\n",
    "def data_read(filepath):\n",
    "    data = np.loadtxt(filepath,dtype = np.uint8, delimiter = ',')\n",
    "\n",
    "    # 划分数据和标签\n",
    "    Y = data[:,0]\n",
    "    X = data[:,1:]\n",
    "    return X,Y"
   ]
  },
  {
   "cell_type": "code",
   "execution_count": 2,
   "id": "2ae1758e",
   "metadata": {},
   "outputs": [],
   "source": [
    "# 填充1以计算偏置值\n",
    "def insert_bias(X):\n",
    "    c = np.ones(X.shape[0]).transpose()\n",
    "    X = np.insert(X,0,values=c,axis=1)#对原始数据加入一个全为1的列\n",
    "    return  X"
   ]
  },
  {
   "cell_type": "markdown",
   "id": "e46ac2f5",
   "metadata": {},
   "source": [
    "# 前向计算"
   ]
  },
  {
   "cell_type": "code",
   "execution_count": 16,
   "id": "fca201bd",
   "metadata": {},
   "outputs": [],
   "source": [
    "# 线性层，x与w相乘,得到z\n",
    "def linearForward(input, p):\n",
    "    \"\"\"\n",
    "    :param input: input vector (column vector) WITH bias feature added\n",
    "    :param p: parameter matrix (alpha/beta) WITH bias parameter added\n",
    "    :return: output vector\n",
    "    \"\"\"\n",
    "    z = input.dot(p)\n",
    "    return z\n",
    "\n",
    "# sigmoid激活函数\n",
    "def sigmoidForward(z):\n",
    "    \"\"\"\n",
    "    :param z: input vector WITH bias feature added\n",
    "    \"\"\"\n",
    "#     a = 1/(1+np.exp(-z))\n",
    "\n",
    "    a = np.array([])\n",
    "    for i in range(len(z)):\n",
    "        if z[i]>=0:      #对sigmoid函数的优化，避免了出现极大的数据溢出\n",
    "            a = np.append(a,1.0/(1+np.exp(-z[i])))\n",
    "        else:\n",
    "            a = np.append(a,np.exp(z[i])/(1+np.exp(z[i])))\n",
    "    return a\n",
    "\n",
    "# softmax,得到概率分布\n",
    "def softmaxForward(b):\n",
    "    \"\"\"\n",
    "    :param b: input vector WITH bias feature added\n",
    "    \"\"\"\n",
    "    y_hat = np.exp(b)/sum(np.exp(b))\n",
    "    return y_hat\n",
    "\n",
    "# 交叉熵损失函数\n",
    "def crossEntropyForward(y, y_hat):\n",
    "    \"\"\"\n",
    "    :param y: true label\n",
    "    :param y_hat: vector of probabilistic distribution for predicted label\n",
    "    :return: float\n",
    "    \"\"\"\n",
    "    hot_y = np.zeros(10)\n",
    "    hot_y[y] = 1 # 1-hot vector for true label\n",
    "    \n",
    "    # 交叉熵损失函数\n",
    "    v = -hot_y*np.log(y_hat)\n",
    "    loss = 0 \n",
    "    for i in range(0,len(v)):\n",
    "        loss += v[i]\n",
    "    return loss\n"
   ]
  },
  {
   "cell_type": "code",
   "execution_count": 4,
   "id": "fea0fee0",
   "metadata": {},
   "outputs": [],
   "source": [
    "# 前向计算过程\n",
    "def NNForward(x, y, alpha, beta):  \n",
    "    \"\"\"\n",
    "    :param x: input data (column vector) WITH bias feature added\n",
    "    :param y: input (true) labels\n",
    "    :param alpha: alpha WITH bias parameter added\n",
    "    :param beta: beta WITH bias parameter added\n",
    "    :return: all intermediate quantities x, a, z, b, y, J #refer to writeup for details\n",
    "    TIP: Check on your dimensions. Did you make sure all bias features are added?\n",
    "    \"\"\"\n",
    "    a = linearForward(x,alpha) # (1,20)\n",
    "    z = sigmoidForward(a)  # (1,20)\n",
    "    b = linearForward(z, beta) # (1,10)\n",
    "    y_hat = softmaxForward(b)\n",
    "    j = crossEntropyForward(y,y_hat)\n",
    "    \n",
    "    return x,a,z,b,y_hat,j"
   ]
  },
  {
   "cell_type": "code",
   "execution_count": 7,
   "id": "3dc0d5b3",
   "metadata": {},
   "outputs": [
    {
     "name": "stdout",
     "output_type": "stream",
     "text": [
      "a = \n",
      " [  3.2791981   -0.2187619   -0.91105982   8.52235089  -0.40654758\n",
      "  -3.25018677   2.69896352   6.99750925   1.30681899  -6.40064773\n",
      "   6.22114067  -0.30162984  -1.70501058 -10.7201894    5.01167916\n",
      "   0.71330772  11.06450851  -4.13125959   6.35819641   9.7700962 ]\n",
      "z = \n",
      "  [9.63708248e-01 4.45526594e-01 2.86783014e-01 9.99801068e-01\n",
      " 3.99740235e-01 3.73201767e-02 9.36965456e-01 9.99086679e-01\n",
      " 7.86980371e-01 1.65772876e-03 9.98016963e-01 4.25159103e-01\n",
      " 1.53811987e-01 2.20938450e-05 9.93384347e-01 6.71131632e-01\n",
      " 9.99984342e-01 1.58087043e-02 9.98270508e-01 9.99942868e-01]\n",
      "b = \n",
      " [-3.0840718  -4.45036908  3.80956161  6.99924375  0.10566596  0.12136196\n",
      "  2.33578597  5.37751825  4.61058178  4.58754707]\n",
      "y_hat = \n",
      " [2.91758220e-05 7.44128149e-06 2.87667004e-02 6.98475865e-01\n",
      " 7.08449032e-04 7.19656571e-04 6.58927183e-03 1.37989158e-01\n",
      " 6.40868151e-02 6.26274666e-02]\n",
      "j = \n",
      " 5.022312432443448\n"
     ]
    }
   ],
   "source": [
    "# 前向计算测试\n",
    "\n",
    "# 令隐含层神经元 20\n",
    "alpha = np.random.randn(129 , 20) # 正态分布随机生成w1\n",
    "beta = np.random.randn(20 , 10) # 正态分布w2\n",
    "\n",
    "filepath = \"data/smallTrain.csv\"\n",
    "X,Y = data_read(filepath) # small train\n",
    "X = insert_bias(X)\n",
    "x,a,z,b,y_hat,j = NNForward(X[0], Y[0], alpha, beta)\n",
    "# x(1,129)\n",
    "# alphe(129,20)\n",
    "# beta(20,10)\n",
    "print('a = \\n',a)           # (1,20)\n",
    "print('z = \\n ',z)          # (1,20)\n",
    "print('b = \\n', b)          # (1,10)\n",
    "print('y_hat = \\n', y_hat)  # (1,10)\n",
    "print('j = \\n', j)          "
   ]
  },
  {
   "cell_type": "markdown",
   "id": "cb999492",
   "metadata": {},
   "source": [
    "# 反向传播过程"
   ]
  },
  {
   "cell_type": "code",
   "execution_count": 5,
   "id": "4948bff9",
   "metadata": {},
   "outputs": [],
   "source": [
    "# 将交叉熵和Softmax反向传播求偏导相结合，简化计算\n",
    "def softmaxBackward(hot_y, y_hat):\n",
    "    \"\"\"\n",
    "    :param hot_y: 1-hot vector for true label\n",
    "    :param y_hat: vector of probabilistic distribution for predicted label\n",
    "    \"\"\"\n",
    "    g_b = y_hat - hot_y\n",
    "    return g_b\n",
    "\n",
    "# 对前一层input和参数矩阵的偏导\n",
    "def linearBackward(prev, p, grad_curr): \n",
    "    # z(1,20), beta(20,10), g_b(1,10)  \n",
    "    # x(1,129), alpha(129,20), g_a(1,20)\n",
    "    \"\"\"\n",
    "    :param prev: previous layer WITH bias feature\n",
    "    :param p: parameter matrix (alpha/beta) WITH bias parameter\n",
    "    :param grad_curr: gradients for current layer\n",
    "    :return:\n",
    "        - grad_param: gradients for parameter matrix (alpha/beta)\n",
    "        - grad_prevl: gradients for previous layer\n",
    "    TIP: Check your dimensions.\n",
    "    \"\"\"\n",
    "    grad_param = np.outer(prev.T, grad_curr)\n",
    "    grad_prevl = np.dot(grad_curr, p.T) \n",
    "    return grad_param, grad_prevl\n",
    "\n",
    "def sigmoidBackward(curr, grad_curr):  # z(1,20), g_z(1,20)\n",
    "    \"\"\"\n",
    "    :param curr: current layer WITH bias feature\n",
    "    :param grad_curr: gradients for current layer\n",
    "    :return: grad_prevl: gradients for previous layer\n",
    "    TIP: Check your dimensions\n",
    "    \"\"\"\n",
    "    # σ(x)[1−σ(x)]\n",
    "    g_a = sigmoidForward(curr)*(1-sigmoidForward(curr))  # (1,20)\n",
    "    return g_a"
   ]
  },
  {
   "cell_type": "code",
   "execution_count": 6,
   "id": "2a22a3f6",
   "metadata": {},
   "outputs": [],
   "source": [
    "# 反向递归过程\n",
    "def NNBackward(x, y, alpha, beta, z, y_hat):\n",
    "    \"\"\"\n",
    "    :param x: input data (column vector) WITH bias feature added\n",
    "    :param y: input (true) labels\n",
    "    :param alpha: alpha WITH bias parameter added\n",
    "    :param beta: alpha WITH bias parameter added\n",
    "    :param z: z as per writeup\n",
    "    :param y_hat: vector of probabilistic distribution for predicted label\n",
    "    :return:\n",
    "        - grad_alpha: gradients for alpha\n",
    "        - grad_beta: gradients for beta\n",
    "        - g_b: gradients for layer b (softmaxBackward)\n",
    "        - g_z: gradients for layer z (linearBackward)\n",
    "        - g_a: gradients for layer a (sigmoidBackward)\n",
    "    TIP: Make sure you're accounting for the changes due to the bias term\n",
    "    \"\"\"\n",
    "    # 将y标签转化为hot_y向量\n",
    "    hot_y = np.zeros(10)\n",
    "    hot_y[y] = 1 # 1-hot vector for true label\n",
    "    \n",
    "    g_b = softmaxBackward(hot_y, y_hat)  # 对b的偏导 \n",
    "    grad_beta, g_z = linearBackward(z, beta, g_b)  # 对z的偏导，对bate的偏导\n",
    "    g_a = sigmoidBackward(z, g_z)  # 对a的偏导\n",
    "    grad_alpha, g_x = linearBackward(x, alpha, g_a) # 对x的偏导，对alpha的偏导\n",
    "    return grad_alpha,grad_beta,g_b,g_z,g_a"
   ]
  },
  {
   "cell_type": "code",
   "execution_count": 8,
   "id": "a139d614",
   "metadata": {},
   "outputs": [
    {
     "name": "stdout",
     "output_type": "stream",
     "text": [
      "grad_alpha.shape = \n",
      " (129, 20)\n",
      "grad_beta.shape = \n",
      "  (20, 10)\n",
      "g_b = \n",
      " [ 2.70884507e-05  2.19854355e-02  1.33530246e-02  1.16473245e-02\n",
      "  8.73675351e-01  6.56439766e-03 -9.85050405e-01  1.94765597e-02\n",
      "  1.46216849e-03  3.68590555e-02]\n",
      "g_z = \n",
      " [-1.31750895  2.25315174 -0.95623597  1.26591356  1.16400728 -0.89662636\n",
      " -0.7532907  -1.51834018  0.04166863  0.62030805  0.39935538  0.9631971\n",
      "  1.35299895  1.57892428 -0.40602927  0.90744138 -0.274289   -0.75178386\n",
      " -1.26204434  2.00524384]\n",
      "g_a = \n",
      " [0.24999965 0.24999545 0.24999996 0.23358168 0.19836177 0.22253702\n",
      " 0.24999832 0.24049632 0.2499238  0.20197706 0.24885735 0.19731522\n",
      " 0.19666439 0.20820522 0.19672768 0.2497518  0.2015335  0.20770594\n",
      " 0.24962972 0.24998348]\n"
     ]
    }
   ],
   "source": [
    "# 反向递归测试\n",
    "\n",
    "# 令隐含层神经元 20\n",
    "alpha = np.random.randn(129 , 20) # 正态分布随机生成w1\n",
    "beta = np.random.randn(20 , 10) # 正态分布w2\n",
    "\n",
    "filepath = \"data/smallTrain.csv\"\n",
    "X,Y = data_read(filepath) # small train\n",
    "X = insert_bias(X)\n",
    "x,a,z,b,y_hat,j = NNForward(X[0], Y[0], alpha, beta)\n",
    "\n",
    "grad_alpha,grad_beta,g_b,g_z,g_a = NNBackward(X[0], Y[0], alpha, beta, z, y_hat)\n",
    "\n",
    "print('grad_alpha.shape = \\n',grad_alpha.shape)           # (129,20)\n",
    "print('grad_beta.shape = \\n ',grad_beta.shape)            # (20,10)\n",
    "print('g_b = \\n', g_b)          # (1,10)\n",
    "print('g_z = \\n', g_z)          # (1,20)\n",
    "print('g_a = \\n', g_a)          # (1,20)"
   ]
  },
  {
   "cell_type": "markdown",
   "id": "084ae88c",
   "metadata": {},
   "source": [
    "# 随机梯度下降"
   ]
  },
  {
   "cell_type": "code",
   "execution_count": 21,
   "id": "cf451952",
   "metadata": {},
   "outputs": [],
   "source": [
    "# 随机梯度下降\n",
    "def SGD(X_train, y_train, X_val, y_val, hidden_units, num_epochs, init_rand, learning_rate):\n",
    "    \"\"\"\n",
    "    :param X_train: Training data input (ndarray with shape (N_train, M))\n",
    "    :param y_train: Training labels (1D column vector with shape (N_train,))\n",
    "    :param X_val: Validation data input (ndarray with shape (N_valid, M))\n",
    "    :param y_val: Validation labels (1D column vector with shape (N_valid,))\n",
    "    :param hidden_units: Number of hidden units\n",
    "    :param num_epochs: Number of epochs\n",
    "    :param init_rand:\n",
    "        - True: Initialize weights to random values in Uniform[-0.1, 0.1], bias to 0\n",
    "        - False: Initialize weights and bias to 0\n",
    "    :param learning_rate: Learning rate\n",
    "    :return:\n",
    "        - alpha weights\n",
    "        - beta weights\n",
    "        - train_entropy (length num_epochs): mean cross-entropy loss for training data for each epoch\n",
    "        - valid_entropy (length num_epochs): mean cross-entropy loss for validation data for each epoch\n",
    "    \"\"\"\n",
    "    X_train = insert_bias(X_train)\n",
    "    X_val = insert_bias(X_val)\n",
    "    # 模型参数初始化\n",
    "    if init_rand:\n",
    "        alpha = np.random.randn(X_train[0].shape[0] , hidden_units) # 正态分布随机生成w1\n",
    "        beta = np.random.randn(hidden_units , 10) # 正态分布w2\n",
    "    else:\n",
    "        alpha = np.zeros(X_train[0],hidden_units)\n",
    "        beta = np.zeros(hidden_units,10)\n",
    "    # 记录损失值\n",
    "    loss_train = []\n",
    "    loss_val = []\n",
    "    # 训练\n",
    "    for j in range(num_epochs):  # epoch\n",
    "        for i in range(X_train.shape[0]): # 每个epoch对所有训练样本进行训练\n",
    "            x,a,z,b,y_hat,j = NNForward(X[0], Y[0], alpha, beta)\n",
    "            grad_alpha,grad_beta,g_b,g_z,g_a = NNBackward(X[0], Y[0], alpha, beta, z, y_hat)\n",
    "            \n",
    "            # 更新参数\n",
    "            alpha = alpha - learning_rate*grad_alpha\n",
    "            beta = beta - learning_rate*grad_beta\n",
    "        # 计算训练和验证的平均交叉熵损失\n",
    "        train_loss_sum = 0\n",
    "        for i in range(X_train.shape[0]):\n",
    "            x,a,z,b,y_hat,j = NNForward(X_train[i],y_train[i],alpha,beta)\n",
    "            train_loss_sum += j\n",
    "        loss_train.append(train_loss_sum/X_train.shape[0])\n",
    "        \n",
    "        val_loss_sum = 0\n",
    "        for i in range(X_val.shape[0]):\n",
    "            x,a,z,b,y_hat,j = NNForward(X_val[i],y_val[i],alpha,beta)\n",
    "            val_loss_sum += j\n",
    "        loss_val.append(val_loss_sum/X_val.shape[0])\n",
    " \n",
    "    return alpha,beta,loss_train,loss_val"
   ]
  },
  {
   "cell_type": "code",
   "execution_count": 22,
   "id": "ac8d8c39",
   "metadata": {},
   "outputs": [],
   "source": [
    "# 随机梯度下降测试\n",
    "\n",
    "# 数据读取\n",
    "import numpy as np\n",
    "filepath = \"data/smallTrain.csv\"\n",
    "X_train,y_train = data_read(filepath) # small train\n",
    "filepath = \"data/smallValidation.csv\"\n",
    "X_val,y_val = data_read(filepath)\n",
    "\n",
    "# 30个隐藏单元，40个epoch，参数随机初始化，学习率0.01\n",
    "alpha,beta,loss_train,loss_val = SGD(X_train,y_train,X_val,y_val, 30, 40, True, 0.02)"
   ]
  },
  {
   "cell_type": "code",
   "execution_count": 23,
   "id": "69f6937a",
   "metadata": {},
   "outputs": [
    {
     "data": {
      "image/png": "[encoded data removed]",
      "text/plain": [
       "<Figure size 640x480 with 1 Axes>"
      ]
     },
     "metadata": {},
     "output_type": "display_data"
    }
   ],
   "source": [
    "import matplotlib.pyplot as plt\n",
    "# 训练结果可视化\n",
    "epochs = range(40)\n",
    "plt.plot(epochs,loss_train,label = 'train_loss')\n",
    "plt.plot(epochs,loss_val,label = 'val_loss',)\n",
    "plt.xlabel('epoch')\n",
    "plt.ylabel('mean_loss')\n",
    "plt.legend()\n",
    "plt.show()"
   ]
  },
  {
   "cell_type": "markdown",
   "id": "ccb9fa5a",
   "metadata": {},
   "source": [
    "# 预测标签"
   ]
  },
  {
   "cell_type": "code",
   "execution_count": 12,
   "id": "46224921",
   "metadata": {},
   "outputs": [],
   "source": [
    "def prediction(x,alpha,beta):\n",
    "    x = np.append(x,1)\n",
    "    a = linearForward(x,alpha)\n",
    "    z = sigmoidForward(a)\n",
    "    b = linearForward(z,beta)\n",
    "    y_hat = softmaxForward(b)\n",
    "    pred = y_hat.tolist().index(max(y_hat))\n",
    "    return pred"
   ]
  },
  {
   "cell_type": "code",
   "execution_count": 19,
   "id": "75f0a7e3",
   "metadata": {},
   "outputs": [
    {
     "name": "stdout",
     "output_type": "stream",
     "text": [
      "0 5\n",
      "0 4\n",
      "0 8\n",
      "0 7\n",
      "0 0\n",
      "0 7\n",
      "0 3\n",
      "0 2\n",
      "0 6\n",
      "0 1\n"
     ]
    }
   ],
   "source": [
    "# 预测标签测试\n",
    "label = ['a','e','g','i','l','n','o','r','t','u'] # 序号对应的标签\n",
    "\n",
    "# 数据读取\n",
    "import numpy as np\n",
    "filepath = \"data/smallTrain.csv\"\n",
    "X_train,y_train = data_read(filepath) # small train\n",
    "filepath = \"data/smallValidation.csv\"\n",
    "X_val,y_val = data_read(filepath)\n",
    "\n",
    "for i in range(10):\n",
    "    pred = prediction(X_val[i],alpha,beta)\n",
    "    print(pred,y_val[i])"
   ]
  },
  {
   "cell_type": "code",
   "execution_count": null,
   "id": "25b7c7cf",
   "metadata": {},
   "outputs": [],
   "source": []
  }
 ],
 "metadata": {
  "kernelspec": {
   "display_name": "torch",
   "language": "python",
   "name": "torch"
  },
  "language_info": {
   "codemirror_mode": {
    "name": "ipython",
    "version": 3
   },
   "file_extension": ".py",
   "mimetype": "text/x-python",
   "name": "python",
   "nbconvert_exporter": "python",
   "pygments_lexer": "ipython3",
   "version": "3.10.10"
  }
 },
 "nbformat": 4,
 "nbformat_minor": 5
}
