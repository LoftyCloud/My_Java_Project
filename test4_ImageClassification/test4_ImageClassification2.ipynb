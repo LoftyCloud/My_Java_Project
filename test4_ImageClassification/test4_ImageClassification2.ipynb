{
 "cells": [
  {
   "cell_type": "code",
   "execution_count": 3,
   "id": "00cff724",
   "metadata": {},
   "outputs": [],
   "source": [
    "from PIL import Image\n",
    "import matplotlib.pyplot as plt\n",
    "import numpy as np\n",
    "import torch\n",
    "from torch.utils.data import Dataset, ConcatDataset\n",
    "from torchvision import transforms\n",
    "\n",
    "# label为0-10，分别代表了下列标签：\n",
    "label_names=['ambulance','apple','bear','bicycle','bird','bus','cat','foot','owl','pig']\n",
    "\n",
    "# 图像大小为28*28，但是AlexNet网络输入为224*224，所以大小扩充成224\n",
    "data_transforms = transforms.Compose([\n",
    "    transforms.ToTensor(),\n",
    "#     transforms.Resize((224,224)), \n",
    "    # 单通道归一化                          \n",
    "    transforms.Normalize((0.5,),(0.5,))])\n",
    "\n",
    "# dataset类，方便datasetloader读取并输入模型中\n",
    "class MyDataset(Dataset):\n",
    "    def __init__(self, label_index, transform = data_transforms):\n",
    "        path = \"data/quick_draw_data/\"+label_names[label_index]+\"/\"+label_names[label_index]+\".npy\" \n",
    "        self.data = np.load(path)\n",
    "        self.labels = [label_index]*len(self.data)\n",
    "        self.transform = transform\n",
    "        \n",
    "        # 显示前10个图像\n",
    "#         plt.figure() # 新建画布，防止堆叠\n",
    "#         for i in range(10):\n",
    "#             plt.subplot(1,10,i+1)\n",
    "#             data = self.data[i,:]\n",
    "#             data = data.reshape( 28, 28)  #将数据转为（28，28）维度\n",
    "#             img = Image.fromarray(data)  #转为图片\n",
    "#             plt.imshow(img)\n",
    "#             plt.title(label_names[label_index])\n",
    "        \n",
    "    def __len__(self):\n",
    "        return len(self.data)\n",
    "    \n",
    "    def __getitem__(self, idx):\n",
    "        data = self.data[idx]\n",
    "        image = Image.fromarray(data.reshape(28,28))  #将数据转为（28，28）维度\n",
    "        image = self.transform(image)\n",
    "        label = self.labels[idx]\n",
    "        return image, label\n",
    "\n",
    "datasets = [MyDataset(label_index) for label_index in range(10)]\n",
    "combined_dataset = ConcatDataset(datasets)  # 整的数据集"
   ]
  },
  {
   "cell_type": "code",
   "execution_count": 4,
   "id": "e552dc7d",
   "metadata": {},
   "outputs": [],
   "source": [
    "# 每类数据按照6:3:1方式划分训练集、验证集、测试集对模型进行训练\n",
    "from torch.utils.data import random_split\n",
    "\n",
    "# 定义划分比例\n",
    "lengths = [int(len(combined_dataset)*0.6), int(len(combined_dataset)*0.3), int(len(combined_dataset)*0.1)]\n",
    "# 划分数据集\n",
    "train_set, val_set, test_set = random_split(combined_dataset, lengths)"
   ]
  },
  {
   "cell_type": "markdown",
   "id": "24f0d6c0",
   "metadata": {},
   "source": [
    "# 构建CNN（例如Alex net）作为10-分类模型\n",
    "\n",
    "Alexnet由八层网络构成，其中包括5层卷积层和3层全连接层。卷积层包含了卷积、激活、池化、局部归一化几个过程，全连接层包括了droupout、激活、全连接几个过程。"
   ]
  },
  {
   "cell_type": "code",
   "execution_count": 5,
   "id": "f457e8a7",
   "metadata": {},
   "outputs": [],
   "source": [
    "from torch import nn\n",
    "from torch.nn import Sequential, Conv2d, ReLU, MaxPool2d, Linear, Dropout, Flatten\n",
    "\n",
    "# 构建AlexNet网络变体作为分类器\n",
    "class Net(nn.Module):\n",
    "    def __init__(self,num_classes=10):\n",
    "        super(Net, self).__init__()\n",
    "        self.features = nn.Sequential(\n",
    "            # 特征提取层，padding填充\n",
    "            # 输出大小 = ((输入大小 - 卷积核大小 + 2* padding) / 步长) + 1\n",
    "            # 对网络的层数和参数数量进行了更改\n",
    "            Conv2d(in_channels = 1, out_channels = 32, kernel_size = 4, stride = 2),  # (1*28*28) (32*13*13)\n",
    "            ReLU(),\n",
    "            MaxPool2d(3, 1),  # (32*11*11)\n",
    "            \n",
    "            Conv2d(32, 100, 3, 1),  # (100*9*9)\n",
    "            ReLU(),\n",
    "            MaxPool2d(3, 1),  # (100*7*7)\n",
    "        )\n",
    "\n",
    "        self.classifier = nn.Sequential(\n",
    "            Flatten(),             # 展开成一维\n",
    "            Linear(100*7*7, 2000),\n",
    "            ReLU(),\n",
    "            # 防止过拟合\n",
    "            Dropout(0.5),\n",
    "            Linear(2000, 2000),\n",
    "            ReLU(),\n",
    "            Dropout(0.5),\n",
    "            Linear(2000, 10)\n",
    "        )\n",
    "        \n",
    "    \n",
    "    # 前向过程\n",
    "    def forward(self,x):\n",
    "        x = self.features(x)  # 特征提取\n",
    "        x = self.classifier(x)  # 全连接+分类\n",
    "        return x"
   ]
  },
  {
   "cell_type": "markdown",
   "id": "60ec90a9",
   "metadata": {},
   "source": [
    "# 训练模型\n",
    "对模型进行训练，绘制训练过程中损失函数和预测acc曲线（在同一幅图中）"
   ]
  },
  {
   "cell_type": "code",
   "execution_count": 10,
   "id": "031ada35",
   "metadata": {},
   "outputs": [],
   "source": [
    "from torch.autograd import Variable\n",
    "from torch.nn.functional import interpolate\n",
    "from torch import optim\n",
    "from torch.utils.data import TensorDataset, DataLoader\n",
    "\n",
    "# 训练过程\n",
    "def model_train():\n",
    "    model = Net()       # 创建模型\n",
    "    batch_size = 32     # 批量训练大小\n",
    "    epoch_num = 10\n",
    "    learn_rate = 0.001 \n",
    "    loss_func = nn.CrossEntropyLoss()\n",
    "    optimizer = optim.Adam(params=model.parameters(),lr=learn_rate)\n",
    "\n",
    "    # 数据加载器\n",
    "    train_loader = DataLoader(train_set, batch_size=batch_size, shuffle=True)\n",
    "    test_loader = DataLoader(test_set,batch_size, shuffle=True)\n",
    "    \n",
    "    loss_set = []\n",
    "    acc_set = []\n",
    "    for i in range(epoch_num):\n",
    "        # 训练模型\n",
    "        print(\"epoch [%d]:\" % (i+1))\n",
    "        for j,(batch_data,batch_label) in enumerate(train_loader):\n",
    "            output = model(batch_data)\n",
    "            loss = loss_func(output, batch_label)\n",
    "            # 优化器优化模型参数\n",
    "            optimizer.zero_grad()\n",
    "            loss.backward()\n",
    "            optimizer.step()\n",
    "            if ((j)%500 == 0):\n",
    "                print(\"训练次数：{}，loss：{}\".format(j, loss.item()))\n",
    "        loss_set.append(loss.item())\n",
    "        \n",
    "        torch.save(model, \"models/model_{}.pth\".format(i))\n",
    "        \n",
    "        # 测试模型\n",
    "        acc = 0\n",
    "        with torch.no_grad():\n",
    "            for j,(batch_data,batch_label) in enumerate(test_loader):\n",
    "#                 batch_data = Variable(batch_data.view(32, 1, 28, 28)).to(torch.float32) # 通道数为1\n",
    "                output = model(batch_data)\n",
    "                acc += (output.argmax(1) == batch_label).sum()\n",
    "            print(\"acc：{}\".format(acc/len(test_set)))\n",
    "            acc_set.append(acc/len(test_set))\n",
    "    return model,loss_set,acc_set"
   ]
  },
  {
   "cell_type": "code",
   "execution_count": 11,
   "id": "e75f3fe3",
   "metadata": {},
   "outputs": [
    {
     "name": "stdout",
     "output_type": "stream",
     "text": [
      "epoch [1]:\n",
      "训练次数：0，loss：2.2988429069519043\n",
      "训练次数：500，loss：0.49867430329322815\n",
      "训练次数：1000，loss：0.9495379328727722\n",
      "训练次数：1500，loss：1.0204116106033325\n",
      "训练次数：2000，loss：0.8861054182052612\n",
      "训练次数：2500，loss：0.3892476558685303\n",
      "训练次数：3000，loss：0.582876980304718\n",
      "训练次数：3500，loss：0.9625061750411987\n",
      "acc：0.7614499926567078\n",
      "epoch [2]:\n",
      "训练次数：0，loss：0.6823749542236328\n",
      "训练次数：500，loss：0.6907235383987427\n",
      "训练次数：1000，loss：0.28261691331863403\n",
      "训练次数：1500，loss：0.8044219613075256\n",
      "训练次数：2000，loss：0.5834684371948242\n",
      "训练次数：2500，loss：0.37449440360069275\n",
      "训练次数：3000，loss：0.7576044797897339\n",
      "训练次数：3500，loss：0.4515499174594879\n",
      "acc：0.7900999784469604\n",
      "epoch [3]:\n",
      "训练次数：0，loss：0.30881786346435547\n",
      "训练次数：500，loss：0.5318390727043152\n",
      "训练次数：1000，loss：0.5478968024253845\n",
      "训练次数：1500，loss：0.6673238277435303\n",
      "训练次数：2000，loss：0.8595349788665771\n",
      "训练次数：2500，loss：0.7106937170028687\n",
      "训练次数：3000，loss：0.6281262636184692\n",
      "训练次数：3500，loss：0.6014768481254578\n",
      "acc：0.7929499745368958\n",
      "epoch [4]:\n",
      "训练次数：0，loss：0.4900756776332855\n",
      "训练次数：500，loss：0.5352036356925964\n",
      "训练次数：1000，loss：0.5343445539474487\n",
      "训练次数：1500，loss：0.5850626826286316\n",
      "训练次数：2000，loss：0.4689525365829468\n",
      "训练次数：2500，loss：0.4129553735256195\n",
      "训练次数：3000，loss：0.6040976047515869\n",
      "训练次数：3500，loss：0.3025103807449341\n",
      "acc：0.7963500022888184\n",
      "epoch [5]:\n",
      "训练次数：0，loss：0.2580856680870056\n",
      "训练次数：500，loss：0.41278931498527527\n",
      "训练次数：1000，loss：0.4160785377025604\n",
      "训练次数：1500，loss：0.6650151014328003\n",
      "训练次数：2000，loss：0.6185397505760193\n",
      "训练次数：2500，loss：0.271144300699234\n",
      "训练次数：3000，loss：0.7974397540092468\n",
      "训练次数：3500，loss：0.6338112950325012\n",
      "acc：0.8101000189781189\n",
      "epoch [6]:\n",
      "训练次数：0，loss：0.577119767665863\n",
      "训练次数：500，loss：0.34509146213531494\n",
      "训练次数：1000，loss：0.4882902204990387\n",
      "训练次数：1500，loss：0.6035184264183044\n",
      "训练次数：2000，loss：0.3919999897480011\n",
      "训练次数：2500，loss：0.3542853891849518\n",
      "训练次数：3000，loss：0.604783833026886\n",
      "训练次数：3500，loss：0.7333846092224121\n",
      "acc：0.8011000156402588\n",
      "epoch [7]:\n",
      "训练次数：0，loss：0.6134713888168335\n",
      "训练次数：500，loss：0.40314552187919617\n",
      "训练次数：1000，loss：0.4961782395839691\n",
      "训练次数：1500，loss：0.30323755741119385\n",
      "训练次数：2000，loss：0.5865020155906677\n",
      "训练次数：2500，loss：0.5858995914459229\n",
      "训练次数：3000，loss：0.5813108682632446\n",
      "训练次数：3500，loss：1.0860874652862549\n",
      "acc：0.8079000115394592\n",
      "epoch [8]:\n",
      "训练次数：0，loss：0.18987593054771423\n",
      "训练次数：500，loss：0.48675352334976196\n",
      "训练次数：1000，loss：0.6811184883117676\n",
      "训练次数：1500，loss：0.36075907945632935\n",
      "训练次数：2000，loss：0.6097337007522583\n",
      "训练次数：2500，loss：0.5862112045288086\n",
      "训练次数：3000，loss：0.5067248344421387\n",
      "训练次数：3500，loss：0.6137444972991943\n",
      "acc：0.8051499724388123\n",
      "epoch [9]:\n",
      "训练次数：0，loss：0.47765740752220154\n",
      "训练次数：500，loss：0.5426016449928284\n",
      "训练次数：1000，loss：0.3605743944644928\n",
      "训练次数：1500，loss：0.35460129380226135\n",
      "训练次数：2000，loss：0.5274457335472107\n",
      "训练次数：2500，loss：0.5588231086730957\n",
      "训练次数：3000，loss：0.8696513175964355\n",
      "训练次数：3500，loss：0.5084701180458069\n",
      "acc：0.7954000234603882\n",
      "epoch [10]:\n",
      "训练次数：0，loss：0.46661221981048584\n",
      "训练次数：500，loss：0.41812440752983093\n",
      "训练次数：1000，loss：0.703411340713501\n",
      "训练次数：1500，loss：0.5596787929534912\n",
      "训练次数：2000，loss：0.1579471081495285\n",
      "训练次数：2500，loss：0.5265803337097168\n",
      "训练次数：3000，loss：0.8076959252357483\n",
      "训练次数：3500，loss：0.7137646079063416\n",
      "acc：0.8130999803543091\n"
     ]
    }
   ],
   "source": [
    "model,loss_set,acc_set = model_train()"
   ]
  },
  {
   "cell_type": "code",
   "execution_count": 12,
   "id": "fa0329d1",
   "metadata": {},
   "outputs": [
    {
     "data": {
      "image/png": "[encoded data removed]",
      "text/plain": [
       "<Figure size 640x480 with 1 Axes>"
      ]
     },
     "metadata": {},
     "output_type": "display_data"
    }
   ],
   "source": [
    "plt.plot(loss_set)\n",
    "plt.plot(acc_set)\n",
    "plt.show()"
   ]
  },
  {
   "cell_type": "markdown",
   "id": "d2d6ea84",
   "metadata": {},
   "source": [
    "# 验证模型\n",
    "从验证集中随机抽取10张图片进行预测，输出该图像的标签以及预测概率分布的柱状图"
   ]
  },
  {
   "cell_type": "code",
   "execution_count": 34,
   "id": "6a0ce29e",
   "metadata": {},
   "outputs": [
    {
     "name": "stdout",
     "output_type": "stream",
     "text": [
      "bird\n"
     ]
    },
    {
     "data": {
      "image/png": "[encoded data removed]",
      "text/plain": [
       "<Figure size 640x480 with 1 Axes>"
      ]
     },
     "metadata": {},
     "output_type": "display_data"
    },
    {
     "name": "stdout",
     "output_type": "stream",
     "text": [
      "pig\n"
     ]
    },
    {
     "data": {
      "image/png": "[encoded data removed]",
      "text/plain": [
       "<Figure size 640x480 with 1 Axes>"
      ]
     },
     "metadata": {},
     "output_type": "display_data"
    },
    {
     "name": "stdout",
     "output_type": "stream",
     "text": [
      "owl\n"
     ]
    },
    {
     "data": {
      "image/png": "[encoded data removed]",
      "text/plain": [
       "<Figure size 640x480 with 1 Axes>"
      ]
     },
     "metadata": {},
     "output_type": "display_data"
    },
    {
     "name": "stdout",
     "output_type": "stream",
     "text": [
      "bus\n"
     ]
    },
    {
     "data": {
      "image/png": "[encoded data removed]",
      "text/plain": [
       "<Figure size 640x480 with 1 Axes>"
      ]
     },
     "metadata": {},
     "output_type": "display_data"
    },
    {
     "name": "stdout",
     "output_type": "stream",
     "text": [
      "owl\n"
     ]
    },
    {
     "data": {
      "image/png": "[encoded data removed]",
      "text/plain": [
       "<Figure size 640x480 with 1 Axes>"
      ]
     },
     "metadata": {},
     "output_type": "display_data"
    },
    {
     "name": "stdout",
     "output_type": "stream",
     "text": [
      "cat\n"
     ]
    },
    {
     "data": {
      "image/png": "[encoded data removed]",
      "text/plain": [
       "<Figure size 640x480 with 1 Axes>"
      ]
     },
     "metadata": {},
     "output_type": "display_data"
    },
    {
     "name": "stdout",
     "output_type": "stream",
     "text": [
      "apple\n"
     ]
    },
    {
     "data": {
      "image/png": "[encoded data removed]",
      "text/plain": [
       "<Figure size 640x480 with 1 Axes>"
      ]
     },
     "metadata": {},
     "output_type": "display_data"
    },
    {
     "name": "stdout",
     "output_type": "stream",
     "text": [
      "bus\n"
     ]
    },
    {
     "data": {
      "image/png": "[encoded data removed]",
      "text/plain": [
       "<Figure size 640x480 with 1 Axes>"
      ]
     },
     "metadata": {},
     "output_type": "display_data"
    },
    {
     "name": "stdout",
     "output_type": "stream",
     "text": [
      "bicycle\n"
     ]
    },
    {
     "data": {
      "image/png": "[encoded data removed]",
      "text/plain": [
       "<Figure size 640x480 with 1 Axes>"
      ]
     },
     "metadata": {},
     "output_type": "display_data"
    },
    {
     "name": "stdout",
     "output_type": "stream",
     "text": [
      "bear\n"
     ]
    },
    {
     "data": {
      "image/png": "[encoded data removed]",
      "text/plain": [
       "<Figure size 640x480 with 1 Axes>"
      ]
     },
     "metadata": {},
     "output_type": "display_data"
    }
   ],
   "source": [
    "# 验证模型\n",
    "label_names=['ambulance','apple','bear','bicycle','bird','bus','cat','foot','owl','pig']\n",
    "for i in range(10):\n",
    "    data = val_set[i][0]\n",
    "    label = val_set[i][1]\n",
    "    \n",
    "    prediction = model(data.reshape(1,1,28,28))\n",
    "    # torch.max返回张量指定维度上的最大值及索引\n",
    "    index = torch.max(prediction.data, 1)[1]\n",
    "    print(label_names[index])\n",
    "\n",
    "#     plt.figure()\n",
    "    plt.subplot(2,5,i+1)\n",
    "    img = batch_data[i-1].reshape(28,28)\n",
    "    plt.imshow(img)\n",
    "    plt.title(label_names[batch_label[i]])\n",
    "#     plt.bar(range(len(prediction.data)), prediction.data)\n",
    "    plt.show()"
   ]
  },
  {
   "cell_type": "code",
   "execution_count": null,
   "id": "3d096618",
   "metadata": {},
   "outputs": [],
   "source": []
  }
 ],
 "metadata": {
  "kernelspec": {
   "display_name": "hui",
   "language": "python",
   "name": "hui"
  },
  "language_info": {
   "codemirror_mode": {
    "name": "ipython",
    "version": 3
   },
   "file_extension": ".py",
   "mimetype": "text/x-python",
   "name": "python",
   "nbconvert_exporter": "python",
   "pygments_lexer": "ipython3",
   "version": "3.8.16"
  }
 },
 "nbformat": 4,
 "nbformat_minor": 5
}
