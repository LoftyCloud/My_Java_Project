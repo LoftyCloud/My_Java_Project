{
 "cells": [
  {
   "cell_type": "markdown",
   "id": "ebd625d4",
   "metadata": {},
   "source": [
    "# 1、词元划分示例："
   ]
  },
  {
   "cell_type": "code",
   "execution_count": 1,
   "id": "3302000a",
   "metadata": {},
   "outputs": [
    {
     "name": "stdout",
     "output_type": "stream",
     "text": [
      "['\\\\documentclass{article} \\\\usepackage[all]{xy} \\\\begin{document}\\n', '$$\\n', '\\\\xymatrix{\\n', \"A^{\\\\oplus n} \\\\ar[r] \\\\ar[d]_{m_1, \\\\ldots, m_n} & N' \\\\ar[d] \\\\\\\\\\n\", 'M \\\\ar[r] & N\\n', '}\\n', '$$\\n', '\\\\end{document}\\n']\n",
      "['\\\\xymatrix', '{', 'enter', 'A', '^', '{', '\\\\oplus', 'n', '}', '\\\\ar', '[', 'r', ']', '\\\\ar', '[', 'd', ']', '_', '{', 'm', '_', '1', ',', '\\\\ldots', ',', 'm', '_', 'n', '}', '&', 'N', \"'\", '\\\\ar', '[', 'd', ']', '\\\\\\\\', 'enter', 'M', '\\\\ar', '[', 'r', ']', '&', 'N', 'enter', '}']\n"
     ]
    }
   ],
   "source": [
    "tex_file = \"../data/diagramCode/0_adequate.tex\"\n",
    "from dataprocess import texProcess\n",
    "\n",
    "# 读取文件\n",
    "with open(tex_file, 'r') as f:\n",
    "    content = f.readlines()\n",
    "    print(content)\n",
    "        \n",
    "    split = texProcess.tex_split(content)\n",
    "    print(split)\n"
   ]
  },
  {
   "cell_type": "markdown",
   "id": "a41d1c33",
   "metadata": {},
   "source": [
    "# 2、索引分配示例："
   ]
  },
  {
   "cell_type": "code",
   "execution_count": 2,
   "id": "7b83f8a1",
   "metadata": {},
   "outputs": [
    {
     "name": "stdout",
     "output_type": "stream",
     "text": [
      "词表里共1492个词元\n",
      "前十个词元及其对应的索引:\n",
      "[('<unk>', 0), ('<pad>', 1), ('<bos>', 2), ('<eos>', 3), ('{', 4), ('}', 5), ('[', 6), (']', 7), ('enter', 8), ('\\\\ar', 9)]\n"
     ]
    }
   ],
   "source": [
    "from dataprocess import vocab\n",
    "import pickle\n",
    "\n",
    "# tex经过词元划分后存放在dataprocess/target_all.pkl\n",
    "with open('dataprocess/target_all.pkl', 'rb') as f:\n",
    "    target = pickle.load(f)\n",
    "\n",
    "# 统计词元个数\n",
    "counter = vocab.count_corpus(target)  \n",
    "print(f\"词表里共{len(counter)}个词元\")  # 1492,共1492个词被收入词典并编码\n",
    "\n",
    "src_vocab = vocab.Vocab(target, min_freq=5, reserved_tokens=['<pad>', '<bos>', '<eos>'])\n",
    "# 返回前十个词元及其对应的索引\n",
    "print(\"前十个词元及其对应的索引:\")\n",
    "print(list(src_vocab.token_to_idx.items())[:10])"
   ]
  },
  {
   "cell_type": "markdown",
   "id": "5e160675",
   "metadata": {},
   "source": [
    "# 3、数据集加载示例"
   ]
  },
  {
   "cell_type": "code",
   "execution_count": 3,
   "id": "245afec8",
   "metadata": {},
   "outputs": [
    {
     "name": "stdout",
     "output_type": "stream",
     "text": [
      "tensor([[[1., 1., 1.,  ..., 1., 1., 1.],\n",
      "         [1., 1., 1.,  ..., 1., 1., 1.],\n",
      "         [1., 1., 1.,  ..., 1., 1., 1.],\n",
      "         ...,\n",
      "         [1., 1., 1.,  ..., 1., 1., 1.],\n",
      "         [1., 1., 1.,  ..., 1., 1., 1.],\n",
      "         [1., 1., 1.,  ..., 1., 1., 1.]]])\n",
      "tensor([ 21,   4,   8,  18,   4,  20,   5, 102,   6,  12,   7,  13,  31,  11,\n",
      "          8,  18,   4,  20,   5,  17,   9,   6,  12,   7,  13, 126, 102,   6,\n",
      "         35,   7,  13, 144,  11,  18,   4,  24,   5,   8,   5,   3,   1,   1,\n",
      "          1,   1,   1,   1,   1,   1,   1,   1,   1,   1,   1,   1,   1,   1,\n",
      "          1,   1,   1,   1,   1,   1,   1,   1,   1,   1,   1,   1,   1,   1,\n",
      "          1,   1,   1,   1,   1,   1,   1,   1,   1,   1,   1,   1,   1,   1,\n",
      "          1,   1,   1,   1,   1,   1,   1,   1,   1,   1,   1,   1,   1,   1,\n",
      "          1,   1,   1,   1,   1,   1,   1,   1,   1,   1,   1,   1,   1,   1,\n",
      "          1,   1,   1,   1,   1,   1,   1,   1,   1,   1,   1,   1,   1])\n",
      "torch.Size([1, 200, 270])\n",
      "torch.Size([125])\n"
     ]
    }
   ],
   "source": [
    "import torch\n",
    "from torch.utils.data import random_split\n",
    "from dataload import ImageTextDataset\n",
    "\n",
    "image_folder = \"../data/diagram\"\n",
    "dataset = ImageTextDataset(image_folder)\n",
    "\n",
    "# 数据划分，得到train_set, val_set, test_set\n",
    "# 大约3500个训练样本，150验证样本，150测试样本\n",
    "lengths = [int(len(dataset) * 0.9), int(len(dataset) * 0.05),\n",
    "           len(dataset) - int(len(dataset) * 0.9) - int(len(dataset) * 0.05)]\n",
    "train_set, val_set, test_set = random_split(dataset, lengths)\n",
    "\n",
    "train_loader = torch.utils.data.DataLoader(train_set, batch_size=16, shuffle=True,drop_last=True)\n",
    "# 打印返回的图像和字幕数据\n",
    "for image,tex in  train_loader:\n",
    "    print(image[0])\n",
    "    print(tex[0])\n",
    "    print(image[0].shape)\n",
    "    print(tex[0].shape)\n",
    "    break"
   ]
  },
  {
   "cell_type": "markdown",
   "id": "a4e903b8",
   "metadata": {},
   "source": [
    "# 4、编码器提取特征示例"
   ]
  },
  {
   "cell_type": "code",
   "execution_count": 4,
   "id": "756e0999",
   "metadata": {},
   "outputs": [
    {
     "name": "stdout",
     "output_type": "stream",
     "text": [
      "torch.Size([16, 1, 200, 270])\n",
      "torch.Size([16, 1000])\n",
      "tensor([[0.0222, 0.0000, 0.0000,  ..., 0.0000, 0.0000, 0.0178],\n",
      "        [0.0219, 0.0000, 0.0000,  ..., 0.0000, 0.0000, 0.0157],\n",
      "        [0.0200, 0.0000, 0.0000,  ..., 0.0000, 0.0000, 0.0193],\n",
      "        ...,\n",
      "        [0.0246, 0.0000, 0.0000,  ..., 0.0000, 0.0000, 0.0218],\n",
      "        [0.0216, 0.0000, 0.0000,  ..., 0.0000, 0.0000, 0.0204],\n",
      "        [0.0205, 0.0000, 0.0000,  ..., 0.0000, 0.0000, 0.0164]],\n",
      "       grad_fn=<ReluBackward0>)\n"
     ]
    }
   ],
   "source": [
    "from cnnEncoder import Encoder\n",
    "encoder = Encoder()\n",
    "# 切换为测试模式\n",
    "encoder.eval()\n",
    "\n",
    "for image, text in train_loader:\n",
    "    print(image.shape)\n",
    "    x = encoder(image)\n",
    "    print(x.shape)\n",
    "    print(x)\n",
    "    break\n"
   ]
  },
  {
   "cell_type": "markdown",
   "id": "eff36991",
   "metadata": {},
   "source": [
    "# 5、解码器预测示例"
   ]
  },
  {
   "cell_type": "code",
   "execution_count": 5,
   "id": "4161cf7a",
   "metadata": {},
   "outputs": [
    {
     "name": "stdout",
     "output_type": "stream",
     "text": [
      "torch.Size([16, 125, 1491])\n"
     ]
    }
   ],
   "source": [
    "from decoder import Decoder\n",
    "decoder = Decoder()\n",
    "decoder.eval()\n",
    "for image, text in train_loader:\n",
    "    x = encoder(image)\n",
    "    y = decoder(x, text)\n",
    "    print(y.shape)  # [1,16,1491]\n",
    "    break\n",
    "    \n",
    "# 解码器的输出为（16，125，1491），它代表了125个时间步，每个时间步预测词元在词表上（1491）的概率分布"
   ]
  },
  {
   "cell_type": "markdown",
   "id": "cce3252d",
   "metadata": {},
   "source": [
    "# 6、模型训练"
   ]
  },
  {
   "cell_type": "code",
   "execution_count": 18,
   "id": "0262e502",
   "metadata": {},
   "outputs": [
    {
     "name": "stdout",
     "output_type": "stream",
     "text": [
      "Epoch [1/20], Loss: 7.3021368980407715\n",
      "Epoch [1/20], Loss: 0.03369196876883507\n",
      "Epoch [1/20], Loss: 0.02008460834622383\n",
      "Epoch [1/20], Loss: 0.007105511613190174\n",
      "Epoch [1/20], Loss: 0.00177188019733876\n",
      "Epoch [2/20], Loss: 0.00034841158776544034\n"
     ]
    },
    {
     "ename": "KeyboardInterrupt",
     "evalue": "",
     "output_type": "error",
     "traceback": [
      "\u001b[1;31m---------------------------------------------------------------------------\u001b[0m",
      "\u001b[1;31mKeyboardInterrupt\u001b[0m                         Traceback (most recent call last)",
      "Cell \u001b[1;32mIn[18], line 1\u001b[0m\n\u001b[1;32m----> 1\u001b[0m \u001b[38;5;28;01mimport\u001b[39;00m \u001b[38;5;21;01mmodel_train\u001b[39;00m\n",
      "File \u001b[1;32mE:\\pythonProject\\latexGenerate\\src\\model_train.py:52\u001b[0m\n\u001b[0;32m     50\u001b[0m \u001b[38;5;66;03m# 反向传播和优化\u001b[39;00m\n\u001b[0;32m     51\u001b[0m optimizer\u001b[38;5;241m.\u001b[39mzero_grad()\n\u001b[1;32m---> 52\u001b[0m loss\u001b[38;5;241m.\u001b[39mbackward()\n\u001b[0;32m     53\u001b[0m optimizer\u001b[38;5;241m.\u001b[39mstep()\n\u001b[0;32m     54\u001b[0m \u001b[38;5;66;03m# 打印损失\u001b[39;00m\n",
      "File \u001b[1;32mD:\\Anaconda3\\envs\\torch\\lib\\site-packages\\torch\\_tensor.py:487\u001b[0m, in \u001b[0;36mTensor.backward\u001b[1;34m(self, gradient, retain_graph, create_graph, inputs)\u001b[0m\n\u001b[0;32m    477\u001b[0m \u001b[38;5;28;01mif\u001b[39;00m has_torch_function_unary(\u001b[38;5;28mself\u001b[39m):\n\u001b[0;32m    478\u001b[0m     \u001b[38;5;28;01mreturn\u001b[39;00m handle_torch_function(\n\u001b[0;32m    479\u001b[0m         Tensor\u001b[38;5;241m.\u001b[39mbackward,\n\u001b[0;32m    480\u001b[0m         (\u001b[38;5;28mself\u001b[39m,),\n\u001b[1;32m   (...)\u001b[0m\n\u001b[0;32m    485\u001b[0m         inputs\u001b[38;5;241m=\u001b[39minputs,\n\u001b[0;32m    486\u001b[0m     )\n\u001b[1;32m--> 487\u001b[0m \u001b[43mtorch\u001b[49m\u001b[38;5;241;43m.\u001b[39;49m\u001b[43mautograd\u001b[49m\u001b[38;5;241;43m.\u001b[39;49m\u001b[43mbackward\u001b[49m\u001b[43m(\u001b[49m\n\u001b[0;32m    488\u001b[0m \u001b[43m    \u001b[49m\u001b[38;5;28;43mself\u001b[39;49m\u001b[43m,\u001b[49m\u001b[43m \u001b[49m\u001b[43mgradient\u001b[49m\u001b[43m,\u001b[49m\u001b[43m \u001b[49m\u001b[43mretain_graph\u001b[49m\u001b[43m,\u001b[49m\u001b[43m \u001b[49m\u001b[43mcreate_graph\u001b[49m\u001b[43m,\u001b[49m\u001b[43m \u001b[49m\u001b[43minputs\u001b[49m\u001b[38;5;241;43m=\u001b[39;49m\u001b[43minputs\u001b[49m\n\u001b[0;32m    489\u001b[0m \u001b[43m\u001b[49m\u001b[43m)\u001b[49m\n",
      "File \u001b[1;32mD:\\Anaconda3\\envs\\torch\\lib\\site-packages\\torch\\autograd\\__init__.py:200\u001b[0m, in \u001b[0;36mbackward\u001b[1;34m(tensors, grad_tensors, retain_graph, create_graph, grad_variables, inputs)\u001b[0m\n\u001b[0;32m    195\u001b[0m     retain_graph \u001b[38;5;241m=\u001b[39m create_graph\n\u001b[0;32m    197\u001b[0m \u001b[38;5;66;03m# The reason we repeat same the comment below is that\u001b[39;00m\n\u001b[0;32m    198\u001b[0m \u001b[38;5;66;03m# some Python versions print out the first line of a multi-line function\u001b[39;00m\n\u001b[0;32m    199\u001b[0m \u001b[38;5;66;03m# calls in the traceback and some print out the last line\u001b[39;00m\n\u001b[1;32m--> 200\u001b[0m \u001b[43mVariable\u001b[49m\u001b[38;5;241;43m.\u001b[39;49m\u001b[43m_execution_engine\u001b[49m\u001b[38;5;241;43m.\u001b[39;49m\u001b[43mrun_backward\u001b[49m\u001b[43m(\u001b[49m\u001b[43m  \u001b[49m\u001b[38;5;66;43;03m# Calls into the C++ engine to run the backward pass\u001b[39;49;00m\n\u001b[0;32m    201\u001b[0m \u001b[43m    \u001b[49m\u001b[43mtensors\u001b[49m\u001b[43m,\u001b[49m\u001b[43m \u001b[49m\u001b[43mgrad_tensors_\u001b[49m\u001b[43m,\u001b[49m\u001b[43m \u001b[49m\u001b[43mretain_graph\u001b[49m\u001b[43m,\u001b[49m\u001b[43m \u001b[49m\u001b[43mcreate_graph\u001b[49m\u001b[43m,\u001b[49m\u001b[43m \u001b[49m\u001b[43minputs\u001b[49m\u001b[43m,\u001b[49m\n\u001b[0;32m    202\u001b[0m \u001b[43m    \u001b[49m\u001b[43mallow_unreachable\u001b[49m\u001b[38;5;241;43m=\u001b[39;49m\u001b[38;5;28;43;01mTrue\u001b[39;49;00m\u001b[43m,\u001b[49m\u001b[43m \u001b[49m\u001b[43maccumulate_grad\u001b[49m\u001b[38;5;241;43m=\u001b[39;49m\u001b[38;5;28;43;01mTrue\u001b[39;49;00m\u001b[43m)\u001b[49m\n",
      "\u001b[1;31mKeyboardInterrupt\u001b[0m: "
     ]
    }
   ],
   "source": [
    "import model_train\n",
    "# 导入python文件会自动执行其中的可执行部分，故直接导入model_train便可开始训练\n",
    "# 有训练过程截图，不再次训练"
   ]
  },
  {
   "cell_type": "markdown",
   "id": "bb23f2c3",
   "metadata": {},
   "source": [
    "# 7、使用模型进行预测示例"
   ]
  },
  {
   "cell_type": "code",
   "execution_count": null,
   "id": "35b6cad2",
   "metadata": {},
   "outputs": [],
   "source": []
  }
 ],
 "metadata": {
  "kernelspec": {
   "display_name": "torch",
   "language": "python",
   "name": "torch"
  },
  "language_info": {
   "codemirror_mode": {
    "name": "ipython",
    "version": 3
   },
   "file_extension": ".py",
   "mimetype": "text/x-python",
   "name": "python",
   "nbconvert_exporter": "python",
   "pygments_lexer": "ipython3",
   "version": "3.10.10"
  }
 },
 "nbformat": 4,
 "nbformat_minor": 5
}
